{
 "cells": [
  {
   "cell_type": "markdown",
   "metadata": {},
   "source": [
    "# Matplotlib Tutorial\n",
    "## what is matplotlib?\n",
    "- a plotting library for the Python programming language and its numerical mathematics extension NumPy\n",
    "- it provides an object-oriented API for embedding plots into applications using general-purpose GUI toolkits like Tkinter, wxPython, Qt, or GTK\n",
    "\n",
    "## Two ways to use matplotlib\n",
    "1. pyplot - a MATLAB-like interface\n",
    "   1. pyplot is a collection of command-style functions that make matplotlib work like MATLAB.\n",
    "   2. pyplot is state-based, which means that it keeps track of the current figure and plot, and applies functions to the current figure or plot.\n",
    "   3. pyplot is not suitable for creating complex plots or for embedding plots into applications.\n",
    "\n",
    "2. object-oriented API\n",
    "   1. object-oriented API is more powerful than pyplot\n",
    "   2. object-oriented API is more flexible and more suitable for creating complex plots or for embedding plots into applications.\n",
    "\n",
    "## Main components of matplotlib\n",
    "1. Figure - a figure is a top-level container for all plot elements.\n",
    "   \n",
    "2. Axes - an axes is a container for a single plot.\n",
    "\n",
    "\n",
    "https://matplotlib.org/stable/users/explain/quick_start.html"
   ]
  }
 ],
 "metadata": {
  "language_info": {
   "name": "python"
  }
 },
 "nbformat": 4,
 "nbformat_minor": 2
}
